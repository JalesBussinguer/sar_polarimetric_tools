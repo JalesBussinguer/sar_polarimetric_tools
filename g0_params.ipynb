{
 "cells": [
  {
   "cell_type": "code",
   "execution_count": 1,
   "metadata": {},
   "outputs": [],
   "source": [
    "import pandas as pd\n",
    "import numpy as np\n",
    "from scipy.special import gamma\n",
    "from math import log\n",
    "from scipy.optimize import minimize"
   ]
  },
  {
   "cell_type": "code",
   "execution_count": 2,
   "metadata": {},
   "outputs": [],
   "source": [
    "samples = pd.read_csv('D:/thesis_data/VEG_INDICES/samples/stratified/campestre/20m/FC_20170112_20m_patches.csv', sep=',')"
   ]
  },
  {
   "cell_type": "code",
   "execution_count": 3,
   "metadata": {},
   "outputs": [],
   "source": [
    "dprvi_samples = samples['dprvi_patch_0'].values"
   ]
  },
  {
   "cell_type": "code",
   "execution_count": 4,
   "metadata": {},
   "outputs": [],
   "source": [
    "def g0_estimator_moments(samples, L):\n",
    "\n",
    "    # This function derives the parameters alpha and gamma from a G0 distribution by the moments method\n",
    "    # This method assumes the Number of Looks (L) as known (for Sentinel-1: L = 4)\n",
    "\n",
    "    m1 = np.mean(samples)\n",
    "    m2 = np.mean(samples**2)\n",
    "\n",
    "    m212 = m2/(m1**2)\n",
    "\n",
    "    a = -2-(L+1)/(L*m212)\n",
    "    g  = m1*(2+(L+1)/(L*m212))\n",
    "\n",
    "    return round(a, 6), round(g, 6)"
   ]
  },
  {
   "cell_type": "code",
   "execution_count": 84,
   "metadata": {},
   "outputs": [
    {
     "name": "stdout",
     "output_type": "stream",
     "text": [
      "a = -3.213836, g = 1.98798\n"
     ]
    }
   ],
   "source": [
    "alpha0, gamma0 = g0_estimator_moments(dprvi_samples,  L=4)\n",
    "print(f'a = {alpha0}, g = {gamma0}')"
   ]
  },
  {
   "cell_type": "code",
   "execution_count": 107,
   "metadata": {},
   "outputs": [],
   "source": [
    "def loglikelihood_estimator(chute_inicial):\n",
    "\n",
    "    # This function derives the parameters alpha and gamma from a G0 distribution by the maximum likelihhod method\n",
    "    # The input for this function is the alpha and gamma estimated previously by the moments method\n",
    "    # This method assumes the Number of Looks (L) as known (for Sentinel-1: L = 4)\n",
    "    # Samples is an array containing the pixels values of a given region in the SAR image\n",
    "\n",
    "    p_alpha = chute_inicial[0]\n",
    "    p_gamma = chute_inicial[1]\n",
    "\n",
    "    samples = dprvi_samples\n",
    "    n = len(samples) # Number of samples\n",
    "\n",
    "    return n * (gamma(4 - p_alpha) - p_alpha * np.log(p_gamma) - gamma(-p_alpha)) + (p_alpha-4) * sum(np.log(p_gamma + samples * 4))"
   ]
  },
  {
   "cell_type": "code",
   "execution_count": 108,
   "metadata": {},
   "outputs": [],
   "source": [
    "chute_inicial = [alpha0, gamma0]"
   ]
  },
  {
   "cell_type": "code",
   "execution_count": 111,
   "metadata": {},
   "outputs": [],
   "source": [
    "results = minimize(loglikelihood_estimator, x0=chute_inicial, method='BFGS', options={'maxiter': 500},tol=1e-8)"
   ]
  },
  {
   "cell_type": "code",
   "execution_count": 113,
   "metadata": {},
   "outputs": [
    {
     "data": {
      "text/plain": [
       "array([5.72444672e-01, 1.78902018e+07])"
      ]
     },
     "execution_count": 113,
     "metadata": {},
     "output_type": "execute_result"
    }
   ],
   "source": [
    "results.x"
   ]
  },
  {
   "cell_type": "code",
   "execution_count": null,
   "metadata": {},
   "outputs": [],
   "source": []
  }
 ],
 "metadata": {
  "kernelspec": {
   "display_name": "GATEC_projects",
   "language": "python",
   "name": "python3"
  },
  "language_info": {
   "codemirror_mode": {
    "name": "ipython",
    "version": 3
   },
   "file_extension": ".py",
   "mimetype": "text/x-python",
   "name": "python",
   "nbconvert_exporter": "python",
   "pygments_lexer": "ipython3",
   "version": "3.8.16"
  },
  "orig_nbformat": 4
 },
 "nbformat": 4,
 "nbformat_minor": 2
}
